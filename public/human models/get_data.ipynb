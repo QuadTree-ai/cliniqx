{
 "cells": [
  {
   "cell_type": "code",
   "execution_count": 7,
   "metadata": {},
   "outputs": [
    {
     "name": "stdout",
     "output_type": "stream",
     "text": [
      "Data has been saved to nested_g_ids.txt\n"
     ]
    }
   ],
   "source": [
    "from xml.etree import ElementTree as ET\n",
    "\n",
    "def get_nested_g_ids(file_path):\n",
    "    tree = ET.parse(file_path)\n",
    "    root = tree.getroot()\n",
    "    g_tags = root.findall('.//{http://www.w3.org/2000/svg}g')  # Finds all <g> elements, accounting for the SVG namespace\n",
    "    g_ids = [g.attrib.get('id', 'Unnamed group') for g in g_tags if 'id' in g.attrib]\n",
    "    return g_ids\n",
    "\n",
    "def save_data_to_file(ids, filename):\n",
    "    with open(filename, 'w') as file:\n",
    "        for gid in ids:\n",
    "            file.write(f\"{gid}\\n\")\n",
    "\n",
    "# Example usage\n",
    "svg_file_path = './Human front.svg'\n",
    "filename = 'nested_g_ids.txt'\n",
    "g_ids = get_nested_g_ids(svg_file_path)\n",
    "save_data_to_file(g_ids, filename)\n",
    "print(f\"Data has been saved to {filename}\")\n"
   ]
  },
  {
   "cell_type": "code",
   "execution_count": null,
   "metadata": {},
   "outputs": [],
   "source": []
  }
 ],
 "metadata": {
  "kernelspec": {
   "display_name": "pack",
   "language": "python",
   "name": "python3"
  },
  "language_info": {
   "codemirror_mode": {
    "name": "ipython",
    "version": 3
   },
   "file_extension": ".py",
   "mimetype": "text/x-python",
   "name": "python",
   "nbconvert_exporter": "python",
   "pygments_lexer": "ipython3",
   "version": "3.11.8"
  }
 },
 "nbformat": 4,
 "nbformat_minor": 2
}
